{
 "cells": [
  {
   "cell_type": "code",
   "execution_count": 1,
   "metadata": {},
   "outputs": [],
   "source": [
    "import pandas as pd\n",
    "import numpy as np\n",
    "import os\n",
    "from datetime import datetime"
   ]
  },
  {
   "cell_type": "code",
   "execution_count": 2,
   "metadata": {},
   "outputs": [
    {
     "name": "stdout",
     "output_type": "stream",
     "text": [
      "['localhost_access_log.2017-02-03.txt', 'localhost_access_log.2017-02-08.txt', 'localhost_access_log.2017-02-17.txt', 'localhost_access_log.2017-02-24.txt', 'localhost_access_log.2017-02-25.txt', 'localhost_access_log.2017-02-27.txt', 'localhost_access_log.2017-02-28.txt', 'localhost_access_log.2017-03-02.txt', 'localhost_access_log.2017-03-03.txt', 'localhost_access_log.2017-03-10.txt', 'localhost_access_log.2017-03-11.txt', 'localhost_access_log.2017-03-13.txt', 'localhost_access_log.2017-03-14.txt', 'localhost_access_log.2017-03-15.txt', 'localhost_access_log.2017-03-16.txt', 'localhost_access_log.2017-03-17.txt', 'localhost_access_log.2017-03-18.txt', 'localhost_access_log.2017-03-19.txt', 'localhost_access_log.2017-03-20.txt', 'localhost_access_log.2017-03-21.txt', 'localhost_access_log.2017-03-22.txt', 'localhost_access_log.2017-03-23.txt', 'localhost_access_log.2017-03-24.txt', 'localhost_access_log.2017-03-25.txt', 'localhost_access_log.2017-03-26.txt', 'localhost_access_log.2017-03-27.txt', 'localhost_access_log.2017-03-28.txt', 'localhost_access_log.2017-03-29.txt', 'localhost_access_log.2017-03-30.txt', 'localhost_access_log.2017-03-31.txt', 'localhost_access_log.2017-04-01.txt', 'localhost_access_log.2017-04-02.txt', 'localhost_access_log.2017-04-03.txt', 'localhost_access_log.2017-04-04.txt', 'localhost_access_log.2017-04-05.txt', 'localhost_access_log.2017-04-06.txt', 'localhost_access_log.2017-04-07.txt', 'localhost_access_log.2017-04-08.txt', 'localhost_access_log.2017-04-09.txt', 'localhost_access_log.2017-04-10.txt', 'localhost_access_log.2017-04-11.txt', 'localhost_access_log.2017-04-12.txt', 'localhost_access_log.2017-04-13.txt', 'localhost_access_log.2017-04-14.txt', 'localhost_access_log.2017-04-15.txt', 'localhost_access_log.2017-04-16.txt', 'localhost_access_log.2017-04-17.txt', 'localhost_access_log.2017-04-18.txt', 'localhost_access_log.2017-04-19.txt', 'localhost_access_log.2017-04-20.txt', 'localhost_access_log.2017-04-21.txt', 'localhost_access_log.2017-04-22.txt', 'localhost_access_log.2017-04-23.txt', 'localhost_access_log.2017-04-24.txt', 'localhost_access_log.2017-04-25.txt', 'localhost_access_log.2017-04-26.txt', 'localhost_access_log.2017-04-27.txt', 'localhost_access_log.2017-04-28.txt', 'localhost_access_log.2017-04-29.txt', 'localhost_access_log.2017-04-30.txt', 'localhost_access_log.2017-05-01.txt', 'localhost_access_log.2017-05-02.txt', 'localhost_access_log.2017-05-03.txt', 'localhost_access_log.2017-05-04.txt', 'localhost_access_log.2017-05-05.txt', 'localhost_access_log.2017-05-06.txt', 'localhost_access_log.2017-05-07.txt', 'localhost_access_log.2017-05-08.txt', 'localhost_access_log.2017-05-09.txt', 'localhost_access_log.2017-05-10.txt', 'localhost_access_log.2017-05-11.txt', 'localhost_access_log.2017-05-12.txt', 'localhost_access_log.2017-05-13.txt', 'localhost_access_log.2017-05-14.txt', 'localhost_access_log.2017-05-15.txt', 'localhost_access_log.2017-05-16.txt', 'localhost_access_log.2017-05-17.txt', 'localhost_access_log.2017-05-18.txt', 'localhost_access_log.2017-05-19.txt', 'localhost_access_log.2017-05-20.txt', 'localhost_access_log.2017-05-21.txt', 'localhost_access_log.2017-05-22.txt', 'localhost_access_log.2017-05-23.txt', 'localhost_access_log.2017-05-24.txt', 'localhost_access_log.2017-05-25.txt', 'localhost_access_log.2017-05-26.txt', 'localhost_access_log.2017-05-27.txt', 'localhost_access_log.2017-05-28.txt', 'localhost_access_log.2017-05-29.txt', 'localhost_access_log.2017-05-30.txt', 'localhost_access_log.2017-05-31.txt', 'localhost_access_log.2017-06-01.txt', 'localhost_access_log.2017-06-02.txt', 'localhost_access_log.2017-06-03.txt', 'localhost_access_log.2017-06-04.txt', 'localhost_access_log.2017-06-05.txt', 'localhost_access_log.2017-06-06.txt', 'localhost_access_log.2017-06-07.txt', 'localhost_access_log.2017-06-08.txt', 'localhost_access_log.2017-06-09.txt', 'localhost_access_log.2017-06-10.txt', 'localhost_access_log.2017-06-11.txt', 'localhost_access_log.2017-06-12.txt', 'localhost_access_log.2017-06-13.txt', 'localhost_access_log.2017-06-14.txt', 'localhost_access_log.2017-06-15.txt', 'localhost_access_log.2017-06-16.txt', 'localhost_access_log.2017-06-19.txt', 'localhost_access_log.2017-06-20.txt', 'localhost_access_log.2017-06-21.txt', 'localhost_access_log.2017-06-22.txt', 'localhost_access_log.2017-06-23.txt', 'localhost_access_log.2017-06-24.txt', 'localhost_access_log.2017-06-25.txt', 'localhost_access_log.2017-06-26.txt', 'localhost_access_log.2017-06-27.txt', 'localhost_access_log.2017-06-28.txt', 'localhost_access_log.2017-06-29.txt', 'localhost_access_log.2017-06-30.txt', 'localhost_access_log.2017-07-01.txt', 'localhost_access_log.2017-07-02.txt', 'localhost_access_log.2017-07-03.txt', 'localhost_access_log.2017-07-04.txt', 'localhost_access_log.2017-07-05.txt', 'localhost_access_log.2017-07-06.txt', 'localhost_access_log.2017-07-07.txt', 'localhost_access_log.2017-07-08.txt', 'localhost_access_log.2017-07-09.txt', 'localhost_access_log.2017-07-10.txt', 'localhost_access_log.2017-07-11.txt', 'localhost_access_log.2017-07-12.txt', 'localhost_access_log.2017-07-13.txt', 'localhost_access_log.2017-07-14.txt', 'localhost_access_log.2017-07-15.txt', 'localhost_access_log.2017-07-16.txt', 'localhost_access_log.2017-07-17.txt', 'localhost_access_log.2017-07-18.txt', 'localhost_access_log.2017-07-19.txt', 'localhost_access_log.2017-07-20.txt', 'localhost_access_log.2017-07-21.txt', 'localhost_access_log.2017-07-22.txt', 'localhost_access_log.2017-07-23.txt', 'localhost_access_log.2017-07-24.txt', 'localhost_access_log.2017-07-25.txt', 'localhost_access_log.2017-07-26.txt', 'localhost_access_log.2017-07-27.txt', 'localhost_access_log.2017-07-28.txt', 'localhost_access_log.2017-07-29.txt', 'localhost_access_log.2017-07-30.txt', 'localhost_access_log.2017-07-31.txt', 'localhost_access_log.2017-08-01.txt', 'localhost_access_log.2017-08-02.txt', 'localhost_access_log.2017-08-03.txt', 'localhost_access_log.2017-08-04.txt', 'localhost_access_log.2017-08-05.txt', 'localhost_access_log.2017-08-06.txt', 'localhost_access_log.2017-08-07.txt', 'localhost_access_log.2017-08-08.txt', 'localhost_access_log.2017-08-09.txt', 'localhost_access_log.2017-08-10.txt', 'localhost_access_log.2017-08-11.txt', 'localhost_access_log.2017-08-12.txt', 'localhost_access_log.2017-08-13.txt', 'localhost_access_log.2017-08-14.txt', 'localhost_access_log.2017-08-15.txt', 'localhost_access_log.2017-08-16.txt', 'localhost_access_log.2017-08-17.txt', 'localhost_access_log.2017-08-18.txt', 'localhost_access_log.2017-08-19.txt', 'localhost_access_log.2017-08-20.txt', 'localhost_access_log.2017-08-21.txt', 'localhost_access_log.2017-08-22.txt', 'localhost_access_log.2017-08-23.txt', 'localhost_access_log.2017-08-24.txt', 'localhost_access_log.2017-08-25.txt', 'localhost_access_log.2017-08-26.txt', 'localhost_access_log.2017-08-27.txt', 'localhost_access_log.2017-08-28.txt', 'localhost_access_log.2017-08-29.txt', 'localhost_access_log.2017-08-30.txt', 'localhost_access_log.2017-08-31.txt', 'localhost_access_log.2017-09-01.txt', 'localhost_access_log.2017-09-02.txt', 'localhost_access_log.2017-09-03.txt', 'localhost_access_log.2017-09-04.txt', 'localhost_access_log.2017-09-05.txt', 'localhost_access_log.2017-09-06.txt', 'localhost_access_log.2017-09-07.txt', 'localhost_access_log.2017-09-08.txt', 'localhost_access_log.2017-09-09.txt', 'localhost_access_log.2017-09-10.txt', 'localhost_access_log.2017-09-11.txt', 'localhost_access_log.2017-09-12.txt', 'localhost_access_log.2017-09-13.txt', 'localhost_access_log.2017-09-14.txt', 'localhost_access_log.2017-09-15.txt', 'localhost_access_log.2017-09-16.txt', 'localhost_access_log.2017-09-17.txt', 'localhost_access_log.2017-09-18.txt', 'localhost_access_log.2017-09-19.txt', 'localhost_access_log.2017-09-20.txt', 'localhost_access_log.2017-09-21.txt', 'localhost_access_log.2017-09-22.txt', 'localhost_access_log.2017-09-23.txt', 'localhost_access_log.2017-09-24.txt', 'localhost_access_log.2017-09-25.txt', 'localhost_access_log.2017-09-26.txt', 'localhost_access_log.2017-09-27.txt', 'localhost_access_log.2017-09-28.txt', 'localhost_access_log.2017-09-29.txt', 'localhost_access_log.2017-09-30.txt', 'localhost_access_log.2017-10-01.txt', 'localhost_access_log.2017-10-02.txt', 'localhost_access_log.2017-10-03.txt', 'localhost_access_log.2017-10-04.txt', 'localhost_access_log.2017-10-05.txt', 'localhost_access_log.2017-10-06.txt', 'localhost_access_log.2017-10-07.txt', 'localhost_access_log.2017-10-08.txt', 'localhost_access_log.2017-10-09.txt', 'localhost_access_log.2017-10-10.txt', 'localhost_access_log.2017-10-11.txt', 'localhost_access_log.2017-10-12.txt', 'localhost_access_log.2017-10-13.txt', 'localhost_access_log.2017-10-14.txt', 'localhost_access_log.2017-10-15.txt', 'localhost_access_log.2017-10-16.txt', 'localhost_access_log.2017-10-17.txt', 'localhost_access_log.2017-10-18.txt', 'localhost_access_log.2017-10-19.txt', 'localhost_access_log.2017-10-20.txt', 'localhost_access_log.2017-10-21.txt', 'localhost_access_log.2017-10-22.txt', 'localhost_access_log.2017-10-23.txt', 'localhost_access_log.2017-10-24.txt', 'localhost_access_log.2017-10-25.txt', 'localhost_access_log.2017-10-26.txt', 'localhost_access_log.2017-10-27.txt', 'localhost_access_log.2017-10-28.txt', 'localhost_access_log.2017-10-29.txt', 'localhost_access_log.2017-10-30.txt', 'localhost_access_log.2017-10-31.txt', 'localhost_access_log.2017-11-01.txt', 'localhost_access_log.2017-11-02.txt', 'localhost_access_log.2017-11-03.txt', 'localhost_access_log.2017-11-04.txt', 'localhost_access_log.2017-11-05.txt', 'localhost_access_log.2017-11-06.txt', 'localhost_access_log.2017-11-07.txt', 'localhost_access_log.2017-11-08.txt', 'localhost_access_log.2017-11-09.txt', 'localhost_access_log.2017-11-10.txt', 'localhost_access_log.2017-11-11.txt', 'localhost_access_log.2017-11-12.txt', 'localhost_access_log.2017-11-13.txt', 'localhost_access_log.2017-11-14.txt', 'localhost_access_log.2017-11-15.txt', 'localhost_access_log.2017-11-16.txt', 'localhost_access_log.2017-11-17.txt', 'localhost_access_log.2017-11-18.txt', 'localhost_access_log.2017-11-19.txt', 'localhost_access_log.2017-11-20.txt', 'localhost_access_log.2017-11-21.txt', 'localhost_access_log.2017-11-22.txt', 'localhost_access_log.2017-11-23.txt', 'localhost_access_log.2017-11-24.txt', 'localhost_access_log.2017-11-25.txt', 'localhost_access_log.2017-11-26.txt', 'localhost_access_log.2017-11-27.txt', 'localhost_access_log.2017-11-28.txt', 'localhost_access_log.2017-11-29.txt', 'localhost_access_log.2017-11-30.txt', 'localhost_access_log.2017-12-01.txt', 'localhost_access_log.2017-12-02.txt', 'localhost_access_log.2017-12-03.txt', 'localhost_access_log.2017-12-04.txt', 'localhost_access_log.2017-12-05.txt', 'localhost_access_log.2017-12-06.txt', 'localhost_access_log.2017-12-07.txt', 'localhost_access_log.2017-12-08.txt', 'localhost_access_log.2017-12-09.txt', 'localhost_access_log.2017-12-10.txt', 'localhost_access_log.2017-12-11.txt', 'localhost_access_log.2017-12-12.txt', 'localhost_access_log.2017-12-13.txt', 'localhost_access_log.2017-12-14.txt', 'localhost_access_log.2017-12-15.txt', 'localhost_access_log.2017-12-16.txt', 'localhost_access_log.2017-12-17.txt', 'localhost_access_log.2017-12-18.txt', 'localhost_access_log.2017-12-19.txt', 'localhost_access_log.2017-12-20.txt', 'localhost_access_log.2017-12-21.txt', 'localhost_access_log.2017-12-22.txt', 'localhost_access_log.2017-12-23.txt', 'localhost_access_log.2017-12-24.txt', 'localhost_access_log.2017-12-25.txt', 'localhost_access_log.2017-12-26.txt', 'localhost_access_log.2017-12-27.txt', 'localhost_access_log.2017-12-28.txt', 'localhost_access_log.2017-12-29.txt', 'localhost_access_log.2017-12-30.txt', 'localhost_access_log.2017-12-31.txt', 'localhost_access_log.2018-01-01.txt', 'localhost_access_log.2018-01-02.txt', 'localhost_access_log.2018-01-03.txt', 'localhost_access_log.2018-01-04.txt', 'localhost_access_log.2018-01-05.txt', 'localhost_access_log.2018-01-06.txt', 'localhost_access_log.2018-01-07.txt', 'localhost_access_log.2018-01-08.txt', 'localhost_access_log.2018-01-09.txt', 'localhost_access_log.2018-01-10.txt', 'localhost_access_log.2018-01-11.txt', 'localhost_access_log.2018-01-12.txt', 'localhost_access_log.2018-01-13.txt', 'localhost_access_log.2018-01-14.txt', 'localhost_access_log.2018-01-15.txt', 'localhost_access_log.2018-01-16.txt', 'localhost_access_log.2018-01-17.txt', 'localhost_access_log.2018-01-18.txt', 'localhost_access_log.2018-01-19.txt', 'localhost_access_log.2018-01-20.txt', 'localhost_access_log.2018-01-21.txt', 'localhost_access_log.2018-01-22.txt', 'localhost_access_log.2018-01-23.txt', 'localhost_access_log.2018-01-24.txt', 'localhost_access_log.2018-01-25.txt', 'localhost_access_log.2018-01-26.txt', 'localhost_access_log.2018-01-27.txt', 'localhost_access_log.2018-01-28.txt', 'localhost_access_log.2018-01-29.txt', 'localhost_access_log.2018-01-30.txt', 'localhost_access_log.2018-01-31.txt', 'localhost_access_log.2018-02-01.txt', 'localhost_access_log.2018-02-02.txt', 'localhost_access_log.2018-02-03.txt', 'localhost_access_log.2018-02-04.txt', 'localhost_access_log.2018-02-05.txt', 'localhost_access_log.2018-02-06.txt', 'localhost_access_log.2018-02-07.txt', 'localhost_access_log.2018-02-08.txt', 'localhost_access_log.2018-02-09.txt', 'localhost_access_log.2018-02-10.txt', 'localhost_access_log.2018-02-11.txt', 'localhost_access_log.2018-02-12.txt', 'localhost_access_log.2018-02-13.txt', 'localhost_access_log.2018-02-14.txt', 'localhost_access_log.2018-02-15.txt', 'localhost_access_log.2018-02-16.txt', 'localhost_access_log.2018-02-17.txt', 'localhost_access_log.2018-02-18.txt', 'localhost_access_log.2018-02-19.txt', 'localhost_access_log.2018-02-20.txt', 'localhost_access_log.2018-02-21.txt', 'localhost_access_log.2018-02-22.txt', 'localhost_access_log.2018-02-23.txt', 'localhost_access_log.2018-02-24.txt', 'localhost_access_log.2018-02-25.txt', 'localhost_access_log.2018-02-26.txt', 'localhost_access_log.2018-02-27.txt', 'localhost_access_log.2018-02-28.txt', 'localhost_access_log.2018-03-01.txt', 'localhost_access_log.2018-03-02.txt', 'localhost_access_log.2018-03-03.txt', 'localhost_access_log.2018-03-04.txt', 'localhost_access_log.2018-03-05.txt', 'localhost_access_log.2018-03-06.txt', 'localhost_access_log.2018-03-07.txt', 'localhost_access_log.2018-03-08.txt', 'localhost_access_log.2018-03-09.txt', 'localhost_access_log.2018-03-10.txt', 'localhost_access_log.2018-03-11.txt', 'localhost_access_log.2018-03-12.txt', 'localhost_access_log.2018-03-13.txt', 'localhost_access_log.2018-03-14.txt', 'localhost_access_log.2018-03-15.txt', 'localhost_access_log.2018-03-16.txt', 'localhost_access_log.2018-03-17.txt', 'localhost_access_log.2018-03-18.txt', 'localhost_access_log.2018-03-19.txt', 'localhost_access_log.2018-03-20.txt', 'localhost_access_log.2018-03-21.txt', 'localhost_access_log.2018-03-22.txt', 'localhost_access_log.2018-03-23.txt', 'localhost_access_log.2018-03-24.txt', 'localhost_access_log.2018-03-25.txt', 'localhost_access_log.2018-03-26.txt', 'localhost_access_log.2018-03-27.txt', 'localhost_access_log.2018-03-28.txt', 'localhost_access_log.2018-03-29.txt', 'localhost_access_log.2018-03-30.txt', 'localhost_access_log.2018-03-31.txt', 'localhost_access_log.2018-04-01.txt', 'localhost_access_log.2018-04-02.txt', 'localhost_access_log.2018-04-03.txt', 'localhost_access_log.2018-04-04.txt', 'localhost_access_log.2018-04-05.txt', 'localhost_access_log.2018-04-06.txt', 'localhost_access_log.2018-04-07.txt', 'localhost_access_log.2018-04-08.txt', 'localhost_access_log.2018-04-09.txt', 'localhost_access_log.2018-04-10.txt', 'localhost_access_log.2018-04-11.txt', 'localhost_access_log.2018-04-12.txt', 'localhost_access_log.2018-04-13.txt', 'localhost_access_log.2018-04-14.txt', 'localhost_access_log.2018-04-15.txt', 'localhost_access_log.2018-04-16.txt', 'localhost_access_log.2018-04-17.txt', 'localhost_access_log.2018-04-18.txt', 'localhost_access_log.2018-04-19.txt', 'localhost_access_log.2018-04-20.txt', 'localhost_access_log.2018-04-21.txt', 'localhost_access_log.2018-04-22.txt', 'localhost_access_log.2018-04-23.txt', 'localhost_access_log.2018-04-24.txt', 'localhost_access_log.2018-04-25.txt', 'localhost_access_log.2018-04-26.txt', 'localhost_access_log.2018-04-27.txt', 'localhost_access_log.2018-04-28.txt', 'localhost_access_log.2018-04-29.txt', 'localhost_access_log.2018-04-30.txt', 'localhost_access_log.2018-05-01.txt', 'localhost_access_log.2018-05-02.txt', 'localhost_access_log.2018-05-03.txt', 'localhost_access_log.2018-05-04.txt', 'localhost_access_log.2018-05-05.txt', 'localhost_access_log.2018-05-06.txt', 'localhost_access_log.2018-05-07.txt', 'localhost_access_log.2018-05-08.txt', 'localhost_access_log.2018-05-09.txt', 'localhost_access_log.2018-05-10.txt', 'localhost_access_log.2018-05-11.txt', 'localhost_access_log.2018-05-12.txt', 'localhost_access_log.2018-05-13.txt', 'localhost_access_log.2018-05-14.txt', 'localhost_access_log.2018-05-15.txt', 'localhost_access_log.2018-05-16.txt', 'localhost_access_log.2018-05-17.txt', 'localhost_access_log.2018-05-18.txt', 'localhost_access_log.2018-05-19.txt', 'localhost_access_log.2018-05-20.txt', 'localhost_access_log.2018-05-21.txt', 'localhost_access_log.2018-05-22.txt', 'localhost_access_log.2018-05-23.txt', 'localhost_access_log.2018-05-24.txt', 'localhost_access_log.2018-05-25.txt', 'localhost_access_log.2018-05-26.txt', 'localhost_access_log.2018-05-27.txt', 'localhost_access_log.2018-05-28.txt', 'localhost_access_log.2018-05-29.txt', 'localhost_access_log.2018-05-30.txt', 'localhost_access_log.2018-05-31.txt', 'localhost_access_log.2018-06-01.txt', 'localhost_access_log.2018-06-02.txt', 'localhost_access_log.2018-06-03.txt', 'localhost_access_log.2018-06-04.txt', 'localhost_access_log.2018-06-05.txt', 'localhost_access_log.2018-06-06.txt', 'localhost_access_log.2018-06-07.txt', 'localhost_access_log.2018-06-08.txt', 'localhost_access_log.2018-06-09.txt', 'localhost_access_log.2018-06-10.txt', 'localhost_access_log.2018-06-11.txt', 'localhost_access_log.2018-06-12.txt', 'localhost_access_log.2018-06-13.txt', 'localhost_access_log.2018-06-14.txt', 'localhost_access_log.2018-06-15.txt', 'localhost_access_log.2018-06-16.txt', 'localhost_access_log.2018-06-17.txt', 'localhost_access_log.2018-06-18.txt', 'localhost_access_log.2018-06-19.txt', 'localhost_access_log.2018-06-20.txt', 'localhost_access_log.2018-06-21.txt', 'localhost_access_log.2018-06-22.txt', 'localhost_access_log.2018-06-23.txt', 'localhost_access_log.2018-06-24.txt', 'localhost_access_log.2018-06-25.txt', 'localhost_access_log.2018-06-26.txt', 'localhost_access_log.2018-06-27.txt', 'localhost_access_log.2018-06-28.txt', 'localhost_access_log.2018-06-29.txt', 'localhost_access_log.2018-06-30.txt', 'localhost_access_log.2018-07-01.txt', 'localhost_access_log.2018-07-02.txt', 'localhost_access_log.2018-07-03.txt', 'localhost_access_log.2018-07-04.txt', 'localhost_access_log.2018-07-05.txt', 'localhost_access_log.2018-07-06.txt', 'localhost_access_log.2018-07-07.txt', 'localhost_access_log.2018-07-08.txt', 'localhost_access_log.2018-07-09.txt', 'localhost_access_log.2018-07-10.txt', 'localhost_access_log.2018-07-11.txt', 'localhost_access_log.2018-07-12.txt', 'localhost_access_log.2018-07-13.txt', 'localhost_access_log.2018-07-14.txt', 'localhost_access_log.2018-07-15.txt', 'localhost_access_log.2018-07-16.txt', 'localhost_access_log.2018-07-17.txt', 'localhost_access_log.2018-07-18.txt', 'localhost_access_log.2018-07-19.txt', 'localhost_access_log.2018-07-20.txt', 'localhost_access_log.2018-07-21.txt', 'localhost_access_log.2018-07-22.txt', 'localhost_access_log.2018-07-23.txt', 'localhost_access_log.2018-07-24.txt', 'localhost_access_log.2018-07-25.txt', 'localhost_access_log.2018-07-26.txt', 'localhost_access_log.2018-07-27.txt', 'localhost_access_log.2018-07-28.txt', 'localhost_access_log.2018-07-29.txt', 'localhost_access_log.2018-07-30.txt', 'localhost_access_log.2018-07-31.txt', 'localhost_access_log.2018-08-01.txt', 'localhost_access_log.2018-08-02.txt', 'localhost_access_log.2018-08-03.txt', 'localhost_access_log.2018-08-04.txt', 'localhost_access_log.2018-08-05.txt', 'localhost_access_log.2018-08-06.txt', 'localhost_access_log.2018-08-07.txt', 'localhost_access_log.2018-08-08.txt', 'localhost_access_log.2018-08-09.txt', 'localhost_access_log.2018-08-10.txt', 'localhost_access_log.2018-08-11.txt', 'localhost_access_log.2018-08-12.txt', 'localhost_access_log.2018-08-13.txt', 'localhost_access_log.2018-08-14.txt', 'localhost_access_log.2018-08-15.txt', 'localhost_access_log.2018-08-16.txt', 'localhost_access_log.2018-08-17.txt', 'localhost_access_log.2018-08-18.txt', 'localhost_access_log.2018-08-19.txt', 'localhost_access_log.2018-08-20.txt', 'localhost_access_log.2018-08-21.txt', 'localhost_access_log.2018-08-22.txt', 'localhost_access_log.2018-08-23.txt', 'localhost_access_log.2018-08-24.txt', 'localhost_access_log.2018-08-25.txt', 'localhost_access_log.2018-08-26.txt', 'localhost_access_log.2018-08-27.txt', 'localhost_access_log.2018-08-28.txt', 'localhost_access_log.2018-08-29.txt', 'localhost_access_log.2018-08-30.txt', 'localhost_access_log.2018-08-31.txt', 'localhost_access_log.2018-09-01.txt', 'localhost_access_log.2018-09-02.txt', 'localhost_access_log.2018-09-03.txt', 'localhost_access_log.2018-09-04.txt', 'localhost_access_log.2018-09-05.txt', 'localhost_access_log.2018-09-06.txt', 'localhost_access_log.2018-09-07.txt', 'localhost_access_log.2018-09-08.txt', 'localhost_access_log.2018-09-09.txt', 'localhost_access_log.2018-09-10.txt', 'localhost_access_log.2018-09-11.txt', 'localhost_access_log.2018-09-12.txt', 'localhost_access_log.2018-09-13.txt', 'localhost_access_log.2018-09-14.txt', 'localhost_access_log.2018-09-15.txt', 'localhost_access_log.2018-09-16.txt', 'localhost_access_log.2018-09-17.txt', 'localhost_access_log.2018-09-18.txt', 'localhost_access_log.2018-09-19.txt', 'localhost_access_log.2018-09-20.txt', 'localhost_access_log.2018-09-21.txt', 'localhost_access_log.2018-09-22.txt', 'localhost_access_log.2018-09-23.txt', 'localhost_access_log.2018-09-24.txt', 'localhost_access_log.2018-09-25.txt', 'localhost_access_log.2018-09-26.txt', 'localhost_access_log.2018-09-27.txt', 'localhost_access_log.2018-09-28.txt', 'localhost_access_log.2018-09-29.txt', 'localhost_access_log.2018-09-30.txt', 'localhost_access_log.2018-10-01.txt', 'localhost_access_log.2018-10-02.txt', 'localhost_access_log.2018-10-03.txt', 'localhost_access_log.2018-10-04.txt', 'localhost_access_log.2018-10-05.txt', 'localhost_access_log.2018-10-06.txt', 'localhost_access_log.2018-10-07.txt', 'localhost_access_log.2018-10-08.txt', 'localhost_access_log.2018-10-09.txt', 'localhost_access_log.2018-10-10.txt', 'localhost_access_log.2018-10-11.txt', 'localhost_access_log.2018-10-12.txt', 'localhost_access_log.2018-10-13.txt', 'localhost_access_log.2018-10-14.txt', 'localhost_access_log.2018-10-15.txt', 'localhost_access_log.2018-10-16.txt', 'localhost_access_log.2018-10-17.txt', 'localhost_access_log.2018-10-18.txt', 'localhost_access_log.2018-10-19.txt', 'localhost_access_log.2018-10-20.txt', 'localhost_access_log.2018-10-21.txt', 'localhost_access_log.2018-10-22.txt', 'localhost_access_log.2018-10-23.txt', 'localhost_access_log.2018-10-24.txt', 'localhost_access_log.2018-10-25.txt', 'localhost_access_log.2018-10-26.txt', 'localhost_access_log.2018-10-27.txt', 'localhost_access_log.2018-10-28.txt', 'localhost_access_log.2018-10-29.txt', 'localhost_access_log.2018-10-30.txt', 'localhost_access_log.2018-10-31.txt', 'localhost_access_log.2018-11-01.txt', 'localhost_access_log.2018-11-02.txt', 'localhost_access_log.2018-11-03.txt', 'localhost_access_log.2018-11-04.txt', 'localhost_access_log.2018-11-05.txt', 'localhost_access_log.2018-11-06.txt', 'localhost_access_log.2018-11-07.txt', 'localhost_access_log.2018-11-08.txt', 'localhost_access_log.2018-11-09.txt', 'localhost_access_log.2018-11-10.txt', 'localhost_access_log.2018-11-11.txt', 'localhost_access_log.2018-11-12.txt', 'localhost_access_log.2018-11-13.txt', 'localhost_access_log.2018-11-14.txt', 'localhost_access_log.2018-11-15.txt', 'localhost_access_log.2018-11-16.txt', 'localhost_access_log.2018-11-17.txt', 'localhost_access_log.2018-11-18.txt', 'localhost_access_log.2018-11-19.txt', 'localhost_access_log.2018-11-20.txt', 'localhost_access_log.2018-11-21.txt', 'localhost_access_log.2018-11-22.txt', 'localhost_access_log.2018-11-23.txt', 'localhost_access_log.2018-11-24.txt', 'localhost_access_log.2018-11-25.txt', 'localhost_access_log.2018-11-26.txt', 'localhost_access_log.2018-11-27.txt', 'localhost_access_log.2018-11-28.txt', 'localhost_access_log.2018-11-29.txt', 'localhost_access_log.2018-11-30.txt', 'localhost_access_log.2018-12-01.txt', 'localhost_access_log.2018-12-02.txt', 'localhost_access_log.2018-12-03.txt', 'localhost_access_log.2018-12-04.txt', 'localhost_access_log.2018-12-05.txt', 'localhost_access_log.2018-12-06.txt', 'localhost_access_log.2018-12-07.txt', 'localhost_access_log.2018-12-08.txt', 'localhost_access_log.2018-12-09.txt', 'localhost_access_log.2018-12-10.txt', 'localhost_access_log.2018-12-11.txt', 'localhost_access_log.2018-12-12.txt', 'localhost_access_log.2018-12-13.txt', 'localhost_access_log.2018-12-14.txt', 'localhost_access_log.2018-12-15.txt', 'localhost_access_log.2018-12-16.txt', 'localhost_access_log.2018-12-17.txt', 'localhost_access_log.2018-12-18.txt', 'localhost_access_log.2018-12-19.txt', 'localhost_access_log.2018-12-20.txt', 'localhost_access_log.2018-12-21.txt', 'localhost_access_log.2018-12-22.txt', 'localhost_access_log.2018-12-23.txt', 'localhost_access_log.2018-12-24.txt', 'localhost_access_log.2018-12-25.txt', 'localhost_access_log.2018-12-26.txt', 'localhost_access_log.2018-12-27.txt', 'localhost_access_log.2018-12-28.txt', 'localhost_access_log.2018-12-29.txt', 'localhost_access_log.2018-12-30.txt', 'localhost_access_log.2018-12-31.txt', 'localhost_access_log.2019-01-01.txt', 'localhost_access_log.2019-01-02.txt', 'localhost_access_log.2019-01-03.txt', 'localhost_access_log.2019-01-04.txt', 'localhost_access_log.2019-01-05.txt', 'localhost_access_log.2019-01-06.txt', 'localhost_access_log.2019-01-07.txt', 'localhost_access_log.2019-01-08.txt', 'localhost_access_log.2019-01-09.txt', 'localhost_access_log.2019-01-10.txt', 'localhost_access_log.2019-01-11.txt', 'localhost_access_log.2019-01-12.txt', 'localhost_access_log.2019-01-13.txt', 'localhost_access_log.2019-01-14.txt', 'localhost_access_log.2019-01-15.txt', 'localhost_access_log.2019-01-16.txt', 'localhost_access_log.2019-01-17.txt', 'localhost_access_log.2019-01-18.txt', 'localhost_access_log.2019-01-19.txt', 'localhost_access_log.2019-01-20.txt', 'localhost_access_log.2019-01-21.txt', 'localhost_access_log.2019-01-22.txt', 'localhost_access_log.2019-01-23.txt', 'localhost_access_log.2019-01-24.txt', 'localhost_access_log.2019-01-25.txt', 'localhost_access_log.2019-01-26.txt', 'localhost_access_log.2019-01-27.txt', 'localhost_access_log.2019-01-28.txt', 'localhost_access_log.2019-01-29.txt', 'localhost_access_log.2019-01-30.txt', 'localhost_access_log.2019-01-31.txt', 'localhost_access_log.2019-02-01.txt', 'localhost_access_log.2019-02-02.txt', 'localhost_access_log.2019-02-03.txt', 'localhost_access_log.2019-02-04.txt', 'localhost_access_log.2019-02-05.txt', 'localhost_access_log.2019-02-06.txt', 'localhost_access_log.2019-02-07.txt', 'localhost_access_log.2019-02-08.txt', 'localhost_access_log.2019-02-09.txt', 'localhost_access_log.2019-02-10.txt', 'localhost_access_log.2019-02-11.txt', 'localhost_access_log.2019-02-12.txt', 'localhost_access_log.2019-02-13.txt', 'localhost_access_log.2019-02-14.txt', 'localhost_access_log.2019-02-15.txt', 'localhost_access_log.2019-02-16.txt', 'localhost_access_log.2019-02-17.txt', 'localhost_access_log.2019-02-18.txt', 'localhost_access_log.2019-02-19.txt', 'localhost_access_log.2019-02-20.txt', 'localhost_access_log.2019-02-21.txt', 'localhost_access_log.2019-02-22.txt', 'localhost_access_log.2019-02-23.txt', 'localhost_access_log.2019-02-24.txt', 'localhost_access_log.2019-02-25.txt', 'localhost_access_log.2019-02-26.txt', 'localhost_access_log.2019-02-27.txt', 'localhost_access_log.2019-02-28.txt', 'localhost_access_log.2019-03-01.txt', 'localhost_access_log.2019-03-02.txt', 'localhost_access_log.2019-03-03.txt', 'localhost_access_log.2019-03-04.txt', 'localhost_access_log.2019-03-05.txt', 'localhost_access_log.2019-03-06.txt', 'localhost_access_log.2019-03-07.txt', 'localhost_access_log.2019-03-08.txt', 'localhost_access_log.2019-03-09.txt', 'localhost_access_log.2019-03-10.txt', 'localhost_access_log.2019-03-11.txt', 'localhost_access_log.2019-03-12.txt', 'localhost_access_log.2019-03-13.txt', 'localhost_access_log.2019-03-14.txt', 'localhost_access_log.2019-03-15.txt', 'localhost_access_log.2019-03-16.txt', 'localhost_access_log.2019-03-17.txt', 'localhost_access_log.2019-03-18.txt', 'localhost_access_log.2019-03-19.txt', 'localhost_access_log.2019-03-20.txt', 'localhost_access_log.2019-03-21.txt', 'localhost_access_log.2019-03-22.txt', 'localhost_access_log.2019-03-23.txt', 'localhost_access_log.2019-03-24.txt', 'localhost_access_log.2019-03-25.txt', 'localhost_access_log.2019-03-26.txt', 'localhost_access_log.2019-03-27.txt', 'localhost_access_log.2019-03-28.txt', 'localhost_access_log.2019-03-29.txt', 'localhost_access_log.2019-03-30.txt', 'localhost_access_log.2019-03-31.txt', 'localhost_access_log.2019-04-01.txt', 'localhost_access_log.2019-04-02.txt', 'localhost_access_log.2019-04-03.txt', 'localhost_access_log.2019-04-04.txt', 'localhost_access_log.2019-04-05.txt', 'localhost_access_log.2019-04-06.txt', 'localhost_access_log.2019-04-07.txt', 'localhost_access_log.2019-04-08.txt', 'localhost_access_log.2019-04-09.txt', 'localhost_access_log.2019-04-10.txt', 'localhost_access_log.2019-04-11.txt', 'localhost_access_log.2019-04-12.txt', 'localhost_access_log.2019-04-13.txt', 'localhost_access_log.2019-04-14.txt', 'localhost_access_log.2019-04-15.txt', 'localhost_access_log.2019-04-16.txt', 'localhost_access_log.2019-04-17.txt', 'localhost_access_log.2019-04-18.txt', 'localhost_access_log.2019-04-19.txt', 'localhost_access_log.2019-04-20.txt', 'localhost_access_log.2019-04-21.txt', 'localhost_access_log.2019-04-22.txt', 'localhost_access_log.2019-04-23.txt', 'localhost_access_log.2019-04-24.txt', 'localhost_access_log.2019-04-25.txt', 'localhost_access_log.2019-04-26.txt', 'localhost_access_log.2019-04-27.txt', 'localhost_access_log.2019-04-28.txt', 'localhost_access_log.2019-04-29.txt', 'localhost_access_log.2019-04-30.txt', 'localhost_access_log.2019-05-01.txt', 'localhost_access_log.2019-05-02.txt', 'localhost_access_log.2019-05-03.txt', 'localhost_access_log.2019-05-04.txt', 'localhost_access_log.2019-05-05.txt', 'localhost_access_log.2019-05-06.txt', 'localhost_access_log.2019-05-07.txt', 'localhost_access_log.2019-05-08.txt', 'localhost_access_log.2019-05-09.txt', 'localhost_access_log.2019-05-10.txt', 'localhost_access_log.2019-05-11.txt', 'localhost_access_log.2019-05-12.txt', 'localhost_access_log.2019-05-13.txt', 'localhost_access_log.2019-05-14.txt', 'localhost_access_log.2019-05-15.txt', 'localhost_access_log.2019-05-16.txt', 'localhost_access_log.2019-05-17.txt', 'localhost_access_log.2019-05-18.txt', 'localhost_access_log.2019-05-19.txt', 'localhost_access_log.2019-05-20.txt', 'localhost_access_log.2019-05-21.txt', 'localhost_access_log.2019-05-22.txt', 'localhost_access_log.2019-05-23.txt', 'localhost_access_log.2019-05-24.txt', 'localhost_access_log.2019-05-25.txt', 'localhost_access_log.2019-05-26.txt', 'localhost_access_log.2019-05-27.txt', 'localhost_access_log.2019-05-28.txt', 'localhost_access_log.2019-05-29.txt', 'localhost_access_log.2019-05-30.txt', 'localhost_access_log.2019-05-31.txt', 'localhost_access_log.2019-06-01.txt', 'localhost_access_log.2019-06-02.txt', 'localhost_access_log.2019-06-03.txt', 'localhost_access_log.2019-06-04.txt', 'localhost_access_log.2019-06-05.txt', 'localhost_access_log.2019-06-06.txt', 'localhost_access_log.2019-06-07.txt', 'localhost_access_log.2019-06-08.txt', 'localhost_access_log.2019-06-09.txt', 'localhost_access_log.2019-06-10.txt', 'localhost_access_log.2019-06-11.txt', 'localhost_access_log.2019-06-12.txt', 'localhost_access_log.2019-06-13.txt', 'localhost_access_log.2019-06-14.txt', 'localhost_access_log.2019-06-15.txt', 'localhost_access_log.2019-06-16.txt', 'localhost_access_log.2019-06-17.txt', 'localhost_access_log.2019-06-18.txt', 'localhost_access_log.2019-06-19.txt', 'localhost_access_log.2019-06-20.txt', 'localhost_access_log.2019-06-21.txt', 'localhost_access_log.2019-06-22.txt', 'localhost_access_log.2019-06-23.txt', 'localhost_access_log.2019-06-24.txt', 'localhost_access_log.2019-06-25.txt', 'localhost_access_log.2019-06-26.txt']\n"
     ]
    }
   ],
   "source": [
    "path_dir='C:/Users/sdr29/PycharmProjects/Server2' #로그 폴더 경로 [환경에 맞게 수정요망]\n",
    "file_list=os.listdir(path_dir)\n",
    "print(file_list) #로그파일 명 리스트"
   ]
  },
  {
   "cell_type": "code",
   "execution_count": 10,
   "metadata": {},
   "outputs": [],
   "source": [
    "df=pd.DataFrame(columns=['IP','Date','Method','URI','Status','Bytes']) #다음과같은 칼럼으로 데이터프레임 초기화"
   ]
  },
  {
   "cell_type": "code",
   "execution_count": 11,
   "metadata": {},
   "outputs": [
    {
     "name": "stdout",
     "output_type": "stream",
     "text": [
      "Empty DataFrame\n",
      "Columns: [IP, Date, Method, URI, Status, Bytes]\n",
      "Index: []\n"
     ]
    }
   ],
   "source": [
    "print(df)"
   ]
  },
  {
   "cell_type": "code",
   "execution_count": null,
   "metadata": {},
   "outputs": [
    {
     "name": "stdout",
     "output_type": "stream",
     "text": [
      "1 / 845\n",
      "2 / 845\n",
      "[error] log:  \n",
      "3 / 845\n",
      "[error] log:  \n",
      "4 / 845\n",
      "[error] log:  \n",
      "5 / 845\n",
      "6 / 845\n",
      "[error] log:  \n",
      "7 / 845\n",
      "[error] log:  \n",
      "8 / 845\n",
      "[error] log:  \n",
      "9 / 845\n",
      "10 / 845\n",
      "11 / 845\n",
      "[error] log:  \n",
      "12 / 845\n",
      "13 / 845\n",
      "[error] log:  \n",
      "14 / 845\n",
      "[error] log:  \n",
      "15 / 845\n",
      "16 / 845\n",
      "[error] log:  IP0000042 - - [17/Mar/2017:22:14:05 +0900] \"-\" 400 -\n",
      "\n",
      "[error] log:  \n",
      "17 / 845\n",
      "[error] log:  \n",
      "18 / 845\n",
      "[error] log:  \n",
      "19 / 845\n",
      "20 / 845\n",
      "21 / 845\n",
      "[error] log:  IP0000097 - - [22/Mar/2017:11:47:02 +0900] \"-\" 400 -\n",
      "\n",
      "[error] log:  IP0000097 - - [22/Mar/2017:11:47:02 +0900] \"-\" 400 -\n",
      "\n",
      "[error] log:  IP0000007 - - [22/Mar/2017:13:31:52 +0900] \"-\" 400 -\n",
      "\n",
      "[error] log:  IP0000007 - - [22/Mar/2017:14:02:16 +0900] \"-\" 400 -\n",
      "\n",
      "[error] log:  IP0000096 - - [22/Mar/2017:06:39:42 +0900] \"-\" 400 -\n",
      "\n",
      "[error] log:  IP0000102 - - [22/Mar/2017:06:40:34 +0900] \"-\" 400 -\n",
      "\n",
      "22 / 845\n",
      "[error] log:  \n",
      "23 / 845\n",
      "24 / 845\n",
      "[error] log:  \n",
      "25 / 845\n",
      "[error] log:  \n",
      "26 / 845\n",
      "[error] log:  \n",
      "27 / 845\n",
      "28 / 845\n",
      "[error] log:  IP0000005 - - [29/Mar/2017:14:33:42 +0900] \"GET /lms/js/main_js/jquery-1.12.4.js HTTP/1.1\" 304 -\n",
      "\n"
     ]
    }
   ],
   "source": [
    "dateformat='[%d/%b/%Y:%H:%M:%S' #[08/May/2017:10:53:11 의 포맷, 공백으로 split 하기때문에 여기까지 끊김\n",
    "total=len(file_list)\n",
    "count=0\n",
    "for logfile in file_list: #파일이 너무 많아서 5개까지만 함 [환경에 맞게 수정 요망]\n",
    "    count=count+1\n",
    "    print(count,\"/\",total)\n",
    "    f=open(path_dir+\"/\"+logfile,'r')\n",
    "    while True:\n",
    "        line = f.readline()\n",
    "        if not line: break\n",
    "        line = f.readline()\n",
    "        linelist=line.split() #공백으로 split\n",
    "        try:\n",
    "            logdate=datetime.strptime(linelist[3], dateformat)\n",
    "            try: #status를 숫자로 변경해주는데, status가 - 인것을 위해 try-catch 처리\n",
    "                logbytes=int(linelist[9])\n",
    "            except:\n",
    "                logbytes=0\n",
    "            #데이터프레임에 row 추가\n",
    "            df=df.append({'IP':linelist[0],'Date':logdate,'Method':linelist[5][1:],'URI':linelist[6],'Status':int(linelist[8]),'Bytes':logbytes},ignore_index=True)\n",
    "        except:\n",
    "            print(\"[error] log: \",line)\n",
    "    f.close()\n",
    "print(df)"
   ]
  },
  {
   "cell_type": "code",
   "execution_count": 8,
   "metadata": {},
   "outputs": [],
   "source": [
    "##필터 예시 [여러분들이 커스텀해서 쓰시면됩니다]\n",
    "filter1=df['Status']>199\n",
    "_filter1=df['Status']>299\n",
    "filter2=df['Status']==400\n",
    "filter3=df['Status']==404\n",
    "filter4=df['URI'].str.contains('passwd')"
   ]
  },
  {
   "cell_type": "code",
   "execution_count": 9,
   "metadata": {},
   "outputs": [
    {
     "name": "stdout",
     "output_type": "stream",
     "text": [
      "             IP                Date Method   URI Status Bytes\n",
      "29    IP0000001 2017-02-03 16:50:01   POST  null    400     0\n",
      "3670  IP0000001 2017-02-03 16:50:01   POST  null    400     0\n"
     ]
    }
   ],
   "source": [
    "tempdf=df[filter2] #필터 적용\n",
    "print(tempdf)"
   ]
  },
  {
   "cell_type": "code",
   "execution_count": null,
   "metadata": {},
   "outputs": [],
   "source": []
  }
 ],
 "metadata": {
  "kernelspec": {
   "display_name": "Python 3",
   "language": "python",
   "name": "python3"
  },
  "language_info": {
   "codemirror_mode": {
    "name": "ipython",
    "version": 3
   },
   "file_extension": ".py",
   "mimetype": "text/x-python",
   "name": "python",
   "nbconvert_exporter": "python",
   "pygments_lexer": "ipython3",
   "version": "3.8.5"
  }
 },
 "nbformat": 4,
 "nbformat_minor": 4
}
